{
 "cells": [
  {
   "cell_type": "markdown",
   "metadata": {},
   "source": [
    "<h1>Part A- Create a Notebook to demonstrate NumPy Operations.</h1>"
   ]
  },
  {
   "cell_type": "markdown",
   "metadata": {},
   "source": [
    "<h5>1. Create an array that starts from the integer 1, ends at 20, incremented by 3.</h5>"
   ]
  },
  {
   "cell_type": "code",
   "execution_count": 1,
   "metadata": {},
   "outputs": [
    {
     "name": "stdout",
     "output_type": "stream",
     "text": [
      "[ 1  4  7 10 13 16 19]\n"
     ]
    }
   ],
   "source": [
    "import numpy as np\n",
    "array_1 = np.arange(1, 21, 3)\n",
    "print(array_1)"
   ]
  },
  {
   "cell_type": "markdown",
   "metadata": {},
   "source": [
    "<h5>2. Create a new array of shape 3 with random numbers between 0 and 1.</h5>"
   ]
  },
  {
   "cell_type": "code",
   "execution_count": 2,
   "metadata": {},
   "outputs": [
    {
     "name": "stdout",
     "output_type": "stream",
     "text": [
      "[0.64143457 0.67056754 0.89669968]\n"
     ]
    }
   ],
   "source": [
    "array_2 = np.random.rand(3)\n",
    "print(array_2)"
   ]
  },
  {
   "cell_type": "markdown",
   "metadata": {
    "vscode": {
     "languageId": "markdown"
    }
   },
   "source": [
    "<h5>3. Create a 2 D array [[10,20,45],[30,12,16],[42,17,56]] and perform the following operations:</h5>\n",
    "\n",
    "    - Slice the 2D array to get the first two rows, slice the 2D array to get the last two rows."
   ]
  },
  {
   "cell_type": "code",
   "execution_count": 3,
   "metadata": {},
   "outputs": [
    {
     "name": "stdout",
     "output_type": "stream",
     "text": [
      "First two rows:\n",
      " [[10 20 45]\n",
      " [30 12 16]]\n",
      "Last two rows:\n",
      " [[30 12 16]\n",
      " [42 17 56]]\n"
     ]
    }
   ],
   "source": [
    "array_3 = np.array([[10, 20, 45], [30, 12, 16], [42, 17, 56]])\n",
    "first_two_rows = array_3[:2, :]\n",
    "last_two_rows = array_3[1:, :]\n",
    "print(\"First two rows:\\n\", first_two_rows)\n",
    "print(\"Last two rows:\\n\", last_two_rows)"
   ]
  },
  {
   "cell_type": "markdown",
   "metadata": {},
   "source": [
    "<h5>4. Create two 2x2 arrays and demonstrate how you can stack the elements vertically, horizontally, and split the arrays into smaller arrays.</h5>"
   ]
  },
  {
   "cell_type": "code",
   "execution_count": 4,
   "metadata": {},
   "outputs": [
    {
     "name": "stdout",
     "output_type": "stream",
     "text": [
      "Vertically Stacked:\n",
      " [[1 2]\n",
      " [3 4]\n",
      " [5 6]\n",
      " [7 8]]\n",
      "Horizontally Stacked:\n",
      " [[1 2 5 6]\n",
      " [3 4 7 8]]\n",
      "Split of Vertically Stacked:\n",
      "Array 1:\n",
      "[[1 2]\n",
      " [3 4]]\n",
      "Array 2:\n",
      "[[5 6]\n",
      " [7 8]]\n",
      "Split of Horizontally Stacked:\n",
      "Array 1:\n",
      "[[1 2 5 6]]\n",
      "Array 2:\n",
      "[[3 4 7 8]]\n"
     ]
    }
   ],
   "source": [
    "array_4 = np.array([[1, 2], [3, 4]])\n",
    "array_5 = np.array([[5, 6], [7, 8]])\n",
    "\n",
    "# Vertical stacking\n",
    "vertical_stack = np.vstack((array_4, array_5))\n",
    "print(\"Vertically Stacked:\\n\", vertical_stack)\n",
    "\n",
    "# Horizontal stacking\n",
    "horizontal_stack = np.hstack((array_4, array_5))\n",
    "print(\"Horizontally Stacked:\\n\", horizontal_stack)\n",
    "\n",
    "# Here we split the array into 2 parts\n",
    "split_1 = np.array_split(vertical_stack, 2)\n",
    "split_2 = np.array_split(horizontal_stack, 2)\n",
    "\n",
    "# Output the results\n",
    "print(\"Split of Vertically Stacked:\")\n",
    "for i, arr in enumerate(split_1):\n",
    "    print(f\"Array {i+1}:\\n{arr}\")\n",
    "\n",
    "print(\"Split of Horizontally Stacked:\")\n",
    "for i, arr in enumerate(split_2):\n",
    "    print(f\"Array {i+1}:\\n{arr}\")"
   ]
  },
  {
   "cell_type": "markdown",
   "metadata": {
    "vscode": {
     "languageId": "yaml"
    }
   },
   "source": [
    "<h5>5. Create two matrices 𝑋= ([[5,7,2],[4,5,6],[7,4 ,2]]), 𝑌= ([[4,2],[6,2],[4,2]])</h5>\n",
    "\n",
    "    - Is it possible to multiply these matrices?\n",
    "    - Demonstrate the case when it is not possible to."
   ]
  },
  {
   "cell_type": "code",
   "execution_count": 5,
   "metadata": {},
   "outputs": [
    {
     "name": "stdout",
     "output_type": "stream",
     "text": [
      "Matrix Multiplication Result:\n",
      " [[70 28]\n",
      " [70 30]\n",
      " [60 26]]\n",
      "Matrix multiplication with Z is not possible due to incompatible dimensions.\n"
     ]
    }
   ],
   "source": [
    "X = np.array([[5, 7, 2], [4, 5, 6], [7, 4, 2]])\n",
    "Y = np.array([[4, 2], [6, 2], [4, 2]])\n",
    "\n",
    "# Check if multiplication is possible (X columns must match Y rows)\n",
    "if X.shape[1] == Y.shape[0]:\n",
    "    # Matrix multiplication is possible\n",
    "    product = np.dot(X, Y)\n",
    "    print(\"Matrix Multiplication Result:\\n\", product)\n",
    "else:\n",
    "    print(\"Matrix multiplication is not possible due to incompatible dimensions.\")\n",
    "\n",
    "# Demonstrating a case where multiplication is not possible\n",
    "# Let's create another matrix Z with incompatible dimensions\n",
    "Z = np.array([[1, 2], [3, 4]])  # 2x2 matrix\n",
    "\n",
    "# Attempting multiplication with X (which is 3x3)\n",
    "if X.shape[1] == Z.shape[0]:\n",
    "    # Matrix multiplication would be possible\n",
    "    product_incompatible = np.dot(X, Z)\n",
    "    print(\"Matrix Multiplication with Z Result:\\n\", product_incompatible)\n",
    "else:\n",
    "    # Multiplication is not possible due to dimension mismatch\n",
    "    print(\"Matrix multiplication with Z is not possible due to incompatible dimensions.\")\n"
   ]
  },
  {
   "cell_type": "markdown",
   "metadata": {},
   "source": [
    "<h5>6. Create two arrays, 𝑥 = ([2,−1,−8]) 𝑦 = ([3,1,−2]),</h5>\n",
    "\n",
    "    - Find the Shape, Number of dimensions of vector x.\n",
    "    - Reshape the vector x to a matrix of size (3,1) and determine the number of dimensions after reshaping y to a matrix of (3,1)."
   ]
  },
  {
   "cell_type": "code",
   "execution_count": 6,
   "metadata": {},
   "outputs": [
    {
     "name": "stdout",
     "output_type": "stream",
     "text": [
      "Shape of x: (3,)\n",
      "Number of dimensions of x: 1\n",
      "Reshaped x:\n",
      " [[ 2]\n",
      " [-1]\n",
      " [-8]]\n",
      "Reshaped y dimensions: 2\n"
     ]
    }
   ],
   "source": [
    "x = np.array([2, -1, -8])\n",
    "y = np.array([3, 1, -2])\n",
    "\n",
    "# Shape and number of dimensions of x\n",
    "print(\"Shape of x:\", x.shape)\n",
    "print(\"Number of dimensions of x:\", x.ndim)\n",
    "\n",
    "# Reshape x and y\n",
    "x_reshaped = x.reshape(3, 1)\n",
    "y_reshaped = y.reshape(3, 1)\n",
    "print(\"Reshaped x:\\n\", x_reshaped)\n",
    "print(\"Reshaped y dimensions:\", y_reshaped.ndim)\n"
   ]
  },
  {
   "cell_type": "markdown",
   "metadata": {},
   "source": [
    "<h5>7. How does broadcasting work? Demonstrate the subtraction, multiplication by considering a 3 x 3 matrix.</h5>"
   ]
  },
  {
   "cell_type": "markdown",
   "metadata": {},
   "source": [
    "Broadcasting is a powerful feature in NumPy that allows operations between arrays of different shapes by automatically expanding one of the arrays to match the shape of the other. This can simplify code and improve performance when working with arrays.\n",
    "\n",
    "How Broadcasting Works:\n",
    "\n",
    "Broadcasting Rules:\n",
    "- If the two arrays differ in their number of dimensions, the smaller array is “padded” with ones on its left side until the shapes are compatible.\n",
    "- Starting from the trailing (rightmost) dimension, NumPy compares the size of each dimension. Two dimensions are considered compatible if:\n",
    "    - They are equal, or\n",
    "    - One of them is 1.\n",
    "- If the arrays are compatible, NumPy virtually stretches the smaller array across the larger one without actually copying the data, allowing element-wise operations to be performed."
   ]
  },
  {
   "cell_type": "code",
   "execution_count": 7,
   "metadata": {},
   "outputs": [
    {
     "name": "stdout",
     "output_type": "stream",
     "text": [
      "Broadcasted subtraction:\n",
      " [[-1  0  1]\n",
      " [ 2  3  4]\n",
      " [ 5  6  7]]\n",
      "Broadcasted multiplication:\n",
      " [[ 2  4  6]\n",
      " [ 8 10 12]\n",
      " [14 16 18]]\n"
     ]
    }
   ],
   "source": [
    "matrix = np.array([[1, 2, 3], [4, 5, 6], [7, 8, 9]])\n",
    "scalar = 2\n",
    "\n",
    "# Subtraction and multiplication\n",
    "subtracted = matrix - scalar\n",
    "# The scalar 2 is treated as if it were a 3x3 matrix where every element is 2. This is because NumPy \"stretches\" the scalar across the matrix. Subtraction happens element-wise:\n",
    "multiplied = matrix * scalar\n",
    "# Similar to subtraction, the scalar 2 is broadcast across the matrix, and element-wise multiplication occurs:\n",
    "print(\"Broadcasted subtraction:\\n\", subtracted)\n",
    "print(\"Broadcasted multiplication:\\n\", multiplied)"
   ]
  },
  {
   "cell_type": "markdown",
   "metadata": {},
   "source": [
    "<h1>Part B- Linear Equations</h1>"
   ]
  },
  {
   "cell_type": "markdown",
   "metadata": {},
   "source": [
    "<h5>Determine the singularity of the system of equations, comment on the expected solution of the system. Solve the system of equations if possible. Justify the reason why you believe the system can or cannot be solved using NumPy functions.</h5>"
   ]
  },
  {
   "cell_type": "markdown",
   "metadata": {},
   "source": [
    "<h5>Part B.1</h5>\n",
    "\n",
    "1. 4x + y - 2z = 10\n",
    "2. 2x - 3y + 2z = -4\n",
    "3. x + 2y + 3z = 6"
   ]
  },
  {
   "cell_type": "markdown",
   "metadata": {},
   "source": [
    "To solve this system, we can express it in matrix form 𝐴 ⋅ 𝑋 = 𝐵\n",
    "\n",
    "A is the coefficient matrix,\n",
    "X is the vector of variables [x,y,z],\n",
    "B is the result vector."
   ]
  },
  {
   "cell_type": "markdown",
   "metadata": {},
   "source": [
    "Singularity check: If the determinant of the matrix 𝐴\n",
    "A is zero, the system is singular, meaning there is no unique solution. Otherwise, we can solve it using np.linalg.solve()."
   ]
  },
  {
   "cell_type": "code",
   "execution_count": 8,
   "metadata": {},
   "outputs": [
    {
     "name": "stdout",
     "output_type": "stream",
     "text": [
      "Determinant of A1: -70.00000000000003\n",
      "Solution to the system:\n",
      " [ 1.8  2.4 -0.2]\n"
     ]
    }
   ],
   "source": [
    "import numpy as np\n",
    "\n",
    "# Coefficient matrix A\n",
    "A1 = np.array([[4, 1, -2], [2, -3, 2], [1, 2, 3]])\n",
    "\n",
    "# Result vector B\n",
    "B1 = np.array([10, -4, 6])\n",
    "\n",
    "# Check if the system is singular by calculating the determinant of A\n",
    "det_A1 = np.linalg.det(A1)\n",
    "print(\"Determinant of A1:\", det_A1)\n",
    "\n",
    "# Solve the system if it is non-singular\n",
    "if det_A1 != 0:\n",
    "    solution_1 = np.linalg.solve(A1, B1)\n",
    "    print(\"Solution to the system:\\n\", solution_1)\n",
    "else:\n",
    "    print(\"The system is singular and cannot be solved.\")"
   ]
  },
  {
   "cell_type": "markdown",
   "metadata": {},
   "source": [
    "<h5>Part B.2</h5>\n",
    "\n",
    "1. 2x - y + 3z + 4w = 10\n",
    "2. 4x - 2y + 6z + 8w = 20\n",
    "3. 3x + y - 2z + 2w = 3\n",
    "4. x + 3y - 4z + w = -1"
   ]
  },
  {
   "cell_type": "code",
   "execution_count": 9,
   "metadata": {},
   "outputs": [
    {
     "name": "stdout",
     "output_type": "stream",
     "text": [
      "Determinant of A2: 0.0\n",
      "The system is singular and cannot be solved.\n"
     ]
    }
   ],
   "source": [
    "# Coefficient matrix A\n",
    "A2 = np.array([[2, -1, 3, 4],\n",
    "               [4, -2, 6, 8],\n",
    "               [3, 1, -2, 2],\n",
    "               [1, 3, -4, 1]])\n",
    "\n",
    "# Result vector B\n",
    "B2 = np.array([10, 20, 3, -1])\n",
    "\n",
    "# Check the singularity of the matrix A\n",
    "det_A2 = np.linalg.det(A2)\n",
    "print(\"Determinant of A2:\", det_A2)\n",
    "\n",
    "# Solve the system if non-singular\n",
    "if det_A2 != 0:\n",
    "    solution_2 = np.linalg.solve(A2, B2)\n",
    "    print(\"Solution to the system:\\n\", solution_2)\n",
    "else:\n",
    "    print(\"The system is singular and cannot be solved.\")"
   ]
  },
  {
   "cell_type": "markdown",
   "metadata": {},
   "source": [
    " In this case two of the equations are multiples of each other (equations 1 and 2), which could make the system singular (determinant = 0), resulting in no unique solution."
   ]
  }
 ],
 "metadata": {
  "kernelspec": {
   "display_name": "CSCN8010_classical_ml",
   "language": "python",
   "name": "cscn8010_classical_ml"
  },
  "language_info": {
   "codemirror_mode": {
    "name": "ipython",
    "version": 3
   },
   "file_extension": ".py",
   "mimetype": "text/x-python",
   "name": "python",
   "nbconvert_exporter": "python",
   "pygments_lexer": "ipython3",
   "version": "3.11.9"
  }
 },
 "nbformat": 4,
 "nbformat_minor": 2
}
